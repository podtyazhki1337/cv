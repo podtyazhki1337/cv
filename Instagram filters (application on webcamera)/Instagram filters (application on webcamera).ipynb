{
 "cells": [
  {
   "cell_type": "code",
   "execution_count": 3,
   "id": "67cf6868",
   "metadata": {},
   "outputs": [],
   "source": [
    "import cv2\n",
    "import numpy as np\n"
   ]
  },
  {
   "cell_type": "code",
   "execution_count": 4,
   "id": "e1b4c249",
   "metadata": {},
   "outputs": [],
   "source": [
    "def cartoonify(frame):\n",
    "    \n",
    "    gray = cv2.cvtColor(frame, cv2.COLOR_BGR2GRAY)\n",
    "   \n",
    "    gray = cv2.medianBlur(gray, 1)\n",
    "  \n",
    "    edges = cv2.adaptiveThreshold(gray, 255, cv2.ADAPTIVE_THRESH_MEAN_C, cv2.THRESH_BINARY, 9, 9)\n",
    "   \n",
    "    color = cv2.bilateralFilter(frame, 9, 200, 200)\n",
    "   \n",
    "    cartoon = cv2.bitwise_and(color, color, mask=edges)\n",
    "    return cartoon"
   ]
  },
  {
   "cell_type": "code",
   "execution_count": 7,
   "id": "1f984a00",
   "metadata": {},
   "outputs": [],
   "source": [
    "def pencil_sketch(frame):\n",
    "  \n",
    "    gray = cv2.cvtColor(frame, cv2.COLOR_BGR2GRAY)\n",
    "    \n",
    "    img_invert = cv2.bitwise_not(gray)\n",
    "    img_smoothing = cv2.GaussianBlur(img_invert, (35, 35),sigmaX=0, sigmaY=0)\n",
    "    def dodgeV2(x, y):\n",
    "        return cv2.divide(x, 255 - y, scale=250)\n",
    "    final_img = dodgeV2(gray, img_smoothing)\n",
    "    \n",
    "    return final_img"
   ]
  },
  {
   "cell_type": "code",
   "execution_count": 8,
   "id": "bf6c61f6",
   "metadata": {},
   "outputs": [],
   "source": [
    "cap = cv2.VideoCapture(0)\n",
    "\n",
    "filter_mode = None  # None means no filter\n",
    "\n",
    "while True:\n",
    "    # Capture frame-by-frame\n",
    "    ret, frame = cap.read()\n",
    "    if not ret:\n",
    "        print(\"Failed to capture video\")\n",
    "        break\n",
    "\n",
    "    # Apply filter based on the current filter mode\n",
    "    if filter_mode == 'cartoon':\n",
    "        frame = cartoonify(frame)\n",
    "    elif filter_mode == 'sketch':\n",
    "        frame = pencil_sketch(frame)\n",
    "\n",
    "    # Display the resulting frame\n",
    "    cv2.imshow('Webcam Video', frame)\n",
    "\n",
    "    # Wait for key press\n",
    "    key = cv2.waitKey(1) & 0xFF\n",
    "    if key == ord('c'):\n",
    "        filter_mode = 'cartoon'  # Apply cartoon filter\n",
    "    elif key == ord('p'):\n",
    "        filter_mode = 'sketch'  # Apply pencil sketch filter\n",
    "    elif key == ord('n'):\n",
    "        filter_mode = None  # No filter (normal mode)\n",
    "    elif key == ord('q'):\n",
    "        break  # Quit the program\n",
    "\n",
    "# When everything is done, release the capture and close windows\n",
    "cap.release()\n",
    "cv2.destroyAllWindows()"
   ]
  },
  {
   "cell_type": "code",
   "execution_count": 6,
   "id": "5c7fccc8",
   "metadata": {},
   "outputs": [],
   "source": []
  },
  {
   "cell_type": "code",
   "execution_count": null,
   "id": "57538a60",
   "metadata": {},
   "outputs": [],
   "source": []
  }
 ],
 "metadata": {
  "kernelspec": {
   "display_name": "Python 3 (ipykernel)",
   "language": "python",
   "name": "python3"
  },
  "language_info": {
   "codemirror_mode": {
    "name": "ipython",
    "version": 3
   },
   "file_extension": ".py",
   "mimetype": "text/x-python",
   "name": "python",
   "nbconvert_exporter": "python",
   "pygments_lexer": "ipython3",
   "version": "3.9.12"
  }
 },
 "nbformat": 4,
 "nbformat_minor": 5
}
