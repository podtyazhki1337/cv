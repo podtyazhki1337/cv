{
 "cells": [
  {
   "cell_type": "code",
   "execution_count": null,
   "id": "8d4b4dcf",
   "metadata": {},
   "outputs": [],
   "source": [
    "import cv2\n",
    "import numpy as np\n",
    "\n"
   ]
  },
  {
   "cell_type": "code",
   "execution_count": null,
   "id": "a64a8629",
   "metadata": {},
   "outputs": [],
   "source": [
    "def remove_blemish(event, x, y, flags, param):\n",
    "    global mask, img, img_output\n",
    "\n",
    "    if event == cv2.EVENT_LBUTTONDOWN:\n",
    "\n",
    "        cv2.circle(mask, (x, y), 10, (255, 255, 255), -1)\n",
    "   \n",
    "        img_output = cv2.inpaint(img, mask, 10, cv2.INPAINT_TELEA)\n",
    "     \n",
    "        cv2.imshow('Image', img_output)\n",
    "\n",
    "\n",
    "img = cv2.imread('blemish.png')\n",
    "img_output = img.copy()\n",
    "\n",
    "\n",
    "mask = np.zeros(img.shape[:2], dtype=np.uint8)\n",
    "\n",
    "\n",
    "cv2.imshow('Image', img_output)\n",
    "\n",
    "\n",
    "cv2.setMouseCallback('Image', remove_blemish)\n",
    "\n",
    "\n",
    "while True:\n",
    "    if cv2.waitKey(1) & 0xFF == ord('q'):\n",
    "        break\n",
    "\n",
    "# Destroy all OpenCV windows\n",
    "cv2.destroyAllWindows()"
   ]
  }
 ],
 "metadata": {
  "kernelspec": {
   "display_name": "Python 3 (ipykernel)",
   "language": "python",
   "name": "python3"
  },
  "language_info": {
   "codemirror_mode": {
    "name": "ipython",
    "version": 3
   },
   "file_extension": ".py",
   "mimetype": "text/x-python",
   "name": "python",
   "nbconvert_exporter": "python",
   "pygments_lexer": "ipython3",
   "version": "3.9.12"
  }
 },
 "nbformat": 4,
 "nbformat_minor": 5
}
