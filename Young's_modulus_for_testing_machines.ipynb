{
  "nbformat": 4,
  "nbformat_minor": 0,
  "metadata": {
    "colab": {
      "provenance": [],
      "include_colab_link": true
    },
    "kernelspec": {
      "name": "python3",
      "display_name": "Python 3"
    },
    "language_info": {
      "name": "python"
    }
  },
  "cells": [
    {
      "cell_type": "markdown",
      "metadata": {
        "id": "view-in-github",
        "colab_type": "text"
      },
      "source": [
        "<a href=\"https://colab.research.google.com/github/podtyazhki1337/cv/blob/main/Young's_modulus_for_testing_machines.ipynb\" target=\"_parent\"><img src=\"https://colab.research.google.com/assets/colab-badge.svg\" alt=\"Open In Colab\"/></a>"
      ]
    },
    {
      "cell_type": "code",
      "execution_count": null,
      "metadata": {
        "colab": {
          "base_uri": "https://localhost:8080/",
          "height": 524
        },
        "id": "qWY1Y2qRZVUq",
        "outputId": "49e84048-e5d0-4edc-a7a1-bc0fcaf6fc6e"
      },
      "outputs": [
        {
          "output_type": "stream",
          "name": "stdout",
          "text": [
            "Drive already mounted at /content/drive; to attempt to forcibly remount, call drive.mount(\"/content/drive\", force_remount=True).\n",
            "NumPy version: 1.22.4\n",
            "Pandas version: 1.5.3\n"
          ]
        },
        {
          "output_type": "display_data",
          "data": {
            "text/plain": [
              "<Figure size 640x480 with 1 Axes>"
            ],
            "image/png": "[encoded data removed]"
          },
          "metadata": {}
        }
      ],
      "source": [
        "import numpy as np\n",
        "import pandas as pd\n",
        "import matplotlib.pyplot as plt\n",
        "from google.colab import drive\n",
        "drive.mount('/content/drive')\n",
        "\n",
        "\n",
        "print(\"NumPy version:\",np.__version__)\n",
        "print(\"Pandas version:\",pd.__version__)\n",
        "\n",
        "test_data = pd.read_excel('/content/16012023_2_45_3.lia.xlsx')\n",
        "\n",
        "test_data.head()\n",
        "### параметры образца#####\n",
        "diam = 2.03 # mm\n",
        "a = 5   # mm\n",
        "b = 5.61  # mm\n",
        "\n",
        "l = 12  # mm Длина рабочей зоны\n",
        "##########################\n",
        "# прописать выбор геометрии чечения\n",
        "area_type = 'b' # r круглое сечение, b - прямоугольное\n",
        "\n",
        "if area_type == 'r':\n",
        "    area = np.pi*(diam/2)**2\n",
        "else:\n",
        "    area = a*b\n",
        "\n",
        "stress = test_data['C_1_Нагрузка[kN]']*1000/area\n",
        "strain = test_data['C_1_VEX lateral[mm]']/ l\n",
        "\n",
        "\n",
        "\n",
        "##### Модуль Упругости ######\n",
        "i = 0\n",
        "E_ss = [[],[]]\n",
        "while i < len(strain)-1:\n",
        "    if 170 < stress[i] < 400: # Нужно сделать диапазон контролируемым\n",
        "        E_ss[0].append(strain[i])\n",
        "        E_ss[1].append(stress[i])\n",
        "    i+=1\n",
        "#rint(len(E_ss[0]))\n",
        "j = len(E_ss[0]) - 1\n",
        "E = (E_ss[1][j]-E_ss[1][0])/(E_ss[0][j]-E_ss[0][0])\n",
        "\n",
        "#print(E, (E_ss[1][j]/E_ss[0][j]), E_ss[1][j], E_ss[0][j])\n",
        "###########удлинение при разрыве###############\n",
        "b = stress[len(stress)-1] - E*strain[len(strain)-1]\n",
        "\n",
        "e_0 = -b/E*100\n",
        "###########предел прочности###############\n",
        "\n",
        "Sigma_max = np.max(np.array(stress))\n",
        "\n",
        "###########предел текучести сигми 0.2 ###############\n",
        "\n",
        "b_02 = -E*0.002\n",
        "Sigma_02 = []\n",
        "Eps_02 = []\n",
        "for x in strain:\n",
        "    if x >= 0.002:\n",
        "        Sigma_02.append(E*x+b_02)\n",
        "        Eps_02.append(x)\n",
        "\"\"\"\n",
        "for x in Sigma_02:\n",
        "    if x\n",
        "\"\"\"\n",
        "\n",
        "###### Функция нахождения наименьшей разницы двух параметров ##########\n",
        "\"\"\"\n",
        "i = 0\n",
        "j = 0\n",
        "Sigma_02final = 0\n",
        "Eps_02final = 0\n",
        "delta = 1\n",
        "while i < (len(Sigma_02)):\n",
        "  while j < (len(stress)):\n",
        "    d = (Sigma_02[i] - stress[j])**2 + (Eps_02[i]*1000 - strain[j]*1000)**2\n",
        "    j += 1\n",
        "    if d <= delta:\n",
        "      Sigma_02final = stress[j]\n",
        "      Eps_02final = strain[j]\n",
        "      delta = d\n",
        "  i += 1\n",
        "  j = 0\n",
        "\n",
        "\"\"\"\n",
        "\n",
        "#print(len(stress), len(Sigma_02))\n",
        "#график напряжение-деформация#\n",
        "plt.plot(strain, stress)\n",
        "plt.xlabel('Деформация')\n",
        "plt.ylabel('Напряжение (МПа)')\n",
        "plt.title('Напряжение-деформация')\n",
        "plt.show()\n",
        "##############################"
      ]
    },
    {
      "cell_type": "code",
      "source": [
        "print(Sigma_02final, Eps_02final, d, delta, i, j)"
      ],
      "metadata": {
        "colab": {
          "base_uri": "https://localhost:8080/"
        },
        "id": "ara-1lw6EX0K",
        "outputId": "887f93de-9699-4c7a-cfe2-67a79d503f7e"
      },
      "execution_count": null,
      "outputs": [
        {
          "output_type": "stream",
          "name": "stdout",
          "text": [
            "552.0828848151743 0.006009128689765932 1121064.7005869935 3.735943297023717e-06 402 0\n"
          ]
        }
      ]
    },
    {
      "cell_type": "code",
      "source": [
        "Sigma_max"
      ],
      "metadata": {
        "id": "nlPbqbxqBoqb",
        "colab": {
          "base_uri": "https://localhost:8080/"
        },
        "outputId": "06399145-cd37-47f2-f11b-075505f3e4f2"
      },
      "execution_count": null,
      "outputs": [
        {
          "output_type": "execute_result",
          "data": {
            "text/plain": [
              "1290.3340657552085"
            ]
          },
          "metadata": {},
          "execution_count": 33
        }
      ]
    },
    {
      "cell_type": "code",
      "source": [
        "print(stress)"
      ],
      "metadata": {
        "colab": {
          "base_uri": "https://localhost:8080/"
        },
        "id": "9fyLI4eZZqQO",
        "outputId": "5d69b364-0179-4b5d-a87e-17d56d8bec35"
      },
      "execution_count": null,
      "outputs": [
        {
          "output_type": "stream",
          "name": "stdout",
          "text": [
            "0        5.461385\n",
            "1        5.669328\n",
            "2        6.266466\n",
            "3        6.907397\n",
            "4        7.686299\n",
            "          ...    \n",
            "582    868.446561\n",
            "583    868.036029\n",
            "584    867.186015\n",
            "585    865.418951\n",
            "586    858.024584\n",
            "Name: C_1_Нагрузка[kN], Length: 587, dtype: float64\n"
          ]
        }
      ]
    },
    {
      "cell_type": "code",
      "source": [],
      "metadata": {
        "id": "0V6H0o5HRbM2"
      },
      "execution_count": null,
      "outputs": []
    }
  ]
}